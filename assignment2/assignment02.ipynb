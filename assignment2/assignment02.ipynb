{
 "cells": [
  {
   "cell_type": "code",
   "execution_count": 1,
   "metadata": {},
   "outputs": [],
   "source": [
    "import pandas as pd\n",
    "from matplotlib import pyplot as plt\n",
    "import plotly.plotly as py\n",
    "import plotly.graph_objs as go"
   ]
  },
  {
   "cell_type": "markdown",
   "metadata": {},
   "source": [
    "### raw data "
   ]
  },
  {
   "cell_type": "code",
   "execution_count": 2,
   "metadata": {
    "scrolled": true
   },
   "outputs": [
    {
     "data": {
      "text/html": [
       "<div>\n",
       "<style scoped>\n",
       "    .dataframe tbody tr th:only-of-type {\n",
       "        vertical-align: middle;\n",
       "    }\n",
       "\n",
       "    .dataframe tbody tr th {\n",
       "        vertical-align: top;\n",
       "    }\n",
       "\n",
       "    .dataframe thead th {\n",
       "        text-align: right;\n",
       "    }\n",
       "</style>\n",
       "<table border=\"1\" class=\"dataframe\">\n",
       "  <thead>\n",
       "    <tr style=\"text-align: right;\">\n",
       "      <th></th>\n",
       "      <th>comment</th>\n",
       "      <th>coupon</th>\n",
       "      <th>name</th>\n",
       "      <th>price</th>\n",
       "      <th>shop</th>\n",
       "    </tr>\n",
       "  </thead>\n",
       "  <tbody>\n",
       "    <tr>\n",
       "      <th>0</th>\n",
       "      <td>89万+</td>\n",
       "      <td>自营</td>\n",
       "      <td>荣耀9i 4GB+64GB 幻夜黑 移动联通电信4G全面屏手机 双卡双待</td>\n",
       "      <td>1199.0</td>\n",
       "      <td>荣耀京东自营旗舰店</td>\n",
       "    </tr>\n",
       "    <tr>\n",
       "      <th>1</th>\n",
       "      <td>102万+</td>\n",
       "      <td>自营,券6000-300</td>\n",
       "      <td>Apple iPhone X (A1865) 64GB 深空灰色 移动联通电信4G手机</td>\n",
       "      <td>6999.0</td>\n",
       "      <td>京东Apple产品专营店</td>\n",
       "    </tr>\n",
       "    <tr>\n",
       "      <th>2</th>\n",
       "      <td>106万+</td>\n",
       "      <td>自营</td>\n",
       "      <td>Apple iPhone 8 64GB 红色特别版 移动联通电信4G手机</td>\n",
       "      <td>5099.0</td>\n",
       "      <td>京东Apple产品专营店</td>\n",
       "    </tr>\n",
       "    <tr>\n",
       "      <th>3</th>\n",
       "      <td>80万+</td>\n",
       "      <td>自营,券1980-100</td>\n",
       "      <td>荣耀10 GT游戏加速 AIS手持夜景 6GB+64GB 幻影蓝全网通 移动联通电信4G 双...</td>\n",
       "      <td>2199.0</td>\n",
       "      <td>荣耀京东自营旗舰店</td>\n",
       "    </tr>\n",
       "    <tr>\n",
       "      <th>4</th>\n",
       "      <td>5.2万+</td>\n",
       "      <td>自营</td>\n",
       "      <td>OPPO Find X曲面全景屏 波尔多红 8GB+128GB 全网通 移动联通电信全网通4...</td>\n",
       "      <td>4999.0</td>\n",
       "      <td>OPPO京东自营官方旗舰店</td>\n",
       "    </tr>\n",
       "    <tr>\n",
       "      <th>5</th>\n",
       "      <td>46万+</td>\n",
       "      <td>自营</td>\n",
       "      <td>华为 HUAWEI P20 AI智慧徕卡双摄全面屏游戏手机 6GB+64GB 极光色 全网通...</td>\n",
       "      <td>3388.0</td>\n",
       "      <td>华为京东自营官方旗舰店</td>\n",
       "    </tr>\n",
       "    <tr>\n",
       "      <th>6</th>\n",
       "      <td>12万+</td>\n",
       "      <td>自营,赠</td>\n",
       "      <td>黑鲨游戏手机 8GB+128GB 极夜黑 液冷更快 全网通4G 双卡双待</td>\n",
       "      <td>2999.0</td>\n",
       "      <td>黑鲨京东自营官方旗舰店</td>\n",
       "    </tr>\n",
       "    <tr>\n",
       "      <th>7</th>\n",
       "      <td>28万+</td>\n",
       "      <td>自营</td>\n",
       "      <td>华为 HUAWEI P20 Pro 全面屏徕卡三摄游戏手机 6GB+128GB 极光色 全网...</td>\n",
       "      <td>4988.0</td>\n",
       "      <td>华为京东自营官方旗舰店</td>\n",
       "    </tr>\n",
       "    <tr>\n",
       "      <th>8</th>\n",
       "      <td>39万+</td>\n",
       "      <td>自营,券500-20</td>\n",
       "      <td>vivo Z1极光特别版 新一代全面屏AI双摄手机 4GB+64GB 移动联通电信全网通4G</td>\n",
       "      <td>1398.0</td>\n",
       "      <td>vivo京东自营官方旗舰店</td>\n",
       "    </tr>\n",
       "    <tr>\n",
       "      <th>9</th>\n",
       "      <td>15万+</td>\n",
       "      <td>自营</td>\n",
       "      <td>华为 HUAWEI nova 3全面屏高清四摄游戏手机 6GB+128GB 亮黑色 全网通移...</td>\n",
       "      <td>2799.0</td>\n",
       "      <td>华为京东自营官方旗舰店</td>\n",
       "    </tr>\n",
       "  </tbody>\n",
       "</table>\n",
       "</div>"
      ],
      "text/plain": [
       "  comment        coupon                                               name  \\\n",
       "0    89万+            自营               荣耀9i 4GB+64GB 幻夜黑 移动联通电信4G全面屏手机 双卡双待   \n",
       "1   102万+  自营,券6000-300        Apple iPhone X (A1865) 64GB 深空灰色 移动联通电信4G手机   \n",
       "2   106万+            自营               Apple iPhone 8 64GB 红色特别版 移动联通电信4G手机   \n",
       "3    80万+  自营,券1980-100  荣耀10 GT游戏加速 AIS手持夜景 6GB+64GB 幻影蓝全网通 移动联通电信4G 双...   \n",
       "4   5.2万+            自营  OPPO Find X曲面全景屏 波尔多红 8GB+128GB 全网通 移动联通电信全网通4...   \n",
       "5    46万+            自营  华为 HUAWEI P20 AI智慧徕卡双摄全面屏游戏手机 6GB+64GB 极光色 全网通...   \n",
       "6    12万+          自营,赠               黑鲨游戏手机 8GB+128GB 极夜黑 液冷更快 全网通4G 双卡双待   \n",
       "7    28万+            自营  华为 HUAWEI P20 Pro 全面屏徕卡三摄游戏手机 6GB+128GB 极光色 全网...   \n",
       "8    39万+    自营,券500-20     vivo Z1极光特别版 新一代全面屏AI双摄手机 4GB+64GB 移动联通电信全网通4G   \n",
       "9    15万+            自营  华为 HUAWEI nova 3全面屏高清四摄游戏手机 6GB+128GB 亮黑色 全网通移...   \n",
       "\n",
       "    price           shop  \n",
       "0  1199.0      荣耀京东自营旗舰店  \n",
       "1  6999.0   京东Apple产品专营店  \n",
       "2  5099.0   京东Apple产品专营店  \n",
       "3  2199.0      荣耀京东自营旗舰店  \n",
       "4  4999.0  OPPO京东自营官方旗舰店  \n",
       "5  3388.0    华为京东自营官方旗舰店  \n",
       "6  2999.0    黑鲨京东自营官方旗舰店  \n",
       "7  4988.0    华为京东自营官方旗舰店  \n",
       "8  1398.0  vivo京东自营官方旗舰店  \n",
       "9  2799.0    华为京东自营官方旗舰店  "
      ]
     },
     "execution_count": 2,
     "metadata": {},
     "output_type": "execute_result"
    }
   ],
   "source": [
    "df = pd.read_csv(\"JD_phones.csv\")\n",
    "df.drop(df.columns[0],axis=1,inplace=True) # 删除第一列\n",
    "df.head(10) #显示部分数据"
   ]
  },
  {
   "attachments": {},
   "cell_type": "markdown",
   "metadata": {},
   "source": [
    "### 1. The ratio between Jingdong self-operated stores and non-self-operated stores\n",
    "The pie chart shows data about the rate between JingDong self-operated stores and non-self-operated stores.\n",
    "we could see that in all phone-selling shops, JD self-run shops share over 40 percent in online platform market, while other shops account for 59.25 percent in total."
   ]
  },
  {
   "cell_type": "code",
   "execution_count": 3,
   "metadata": {},
   "outputs": [
    {
     "data": {
      "image/png": "[encoded data removed]",
      "text/plain": [
       "<Figure size 288x288 with 1 Axes>"
      ]
     },
     "metadata": {},
     "output_type": "display_data"
    }
   ],
   "source": [
    "# 京东自营店与非自营店各自占比\n",
    "self = 0\n",
    "others = 0\n",
    "for i in df['coupon']:\n",
    "    if '自营' in str(i):\n",
    "        self += 1\n",
    "    else:\n",
    "        others += 1\n",
    "\n",
    "# 饼状图1\n",
    "plt.figure(figsize=(4,4))\n",
    "labels = [u'J D', u'other shops']\n",
    "sizes = [self,others]\n",
    "colors = ['gray','red']\n",
    "explode = (0.05,0)\n",
    "patches,text1,text2 = plt.pie(sizes,\n",
    "                      explode=explode,\n",
    "                      labels=labels,\n",
    "                      colors=colors,\n",
    "                      autopct = '%3.2f%%', #数值保留固定小数位\n",
    "                      shadow = False,\n",
    "                      startangle =90,\n",
    "                      pctdistance = 0.6) #数值距圆心半径倍数距离\n",
    "plt.axis('equal')\n",
    "plt.legend(loc='upper left', bbox_to_anchor=(-0.5, 1))\n",
    "plt.show()"
   ]
  },
  {
   "cell_type": "markdown",
   "metadata": {},
   "source": [
    "### 2. The ratio of shops with coupons to shops without activities\n",
    "The bar chart below shows data that only small numbers of shops has discount, most of shops don't have discount on smartphones."
   ]
  },
  {
   "cell_type": "code",
   "execution_count": 4,
   "metadata": {},
   "outputs": [
    {
     "data": {
      "text/html": [
       "<iframe id=\"igraph\" scrolling=\"no\" style=\"border:none;\" seamless=\"seamless\" src=\"https://plot.ly/~iiiJenny/18.embed\" height=\"525px\" width=\"100%\"></iframe>"
      ],
      "text/plain": [
       "<plotly.tools.PlotlyDisplay object>"
      ]
     },
     "execution_count": 4,
     "metadata": {},
     "output_type": "execute_result"
    }
   ],
   "source": [
    "# 有券（优惠）的店与无活动的店占比\n",
    "coupon = 0\n",
    "other = 0\n",
    "for i in df['coupon']:\n",
    "    if '券' in str(i):\n",
    "        coupon += 1\n",
    "    else:\n",
    "        other += 1\n",
    "\n",
    "# 柱状图1\n",
    "data = [go.Bar(\n",
    "            x=['coupon', 'other'],\n",
    "            y=[coupon, other]\n",
    "    )]\n",
    "\n",
    "py.iplot(data, filename='Discount')\n",
    "\n",
    "# # or饼状图2\n",
    "# plt.figure(figsize=(4,4))\n",
    "# labels1 = [u'coupon', u'others']\n",
    "# sizes1 = [coupon,other]\n",
    "# colors1 = ['gray','red']\n",
    "# explode1 = (0.2,0)\n",
    "# patches,text1,text2 = plt.pie(sizes1,\n",
    "#                       explode=explode1,\n",
    "#                       labels=labels1,\n",
    "#                       colors=colors1,\n",
    "#                       autopct = '%3.2f%%', \n",
    "#                       shadow = False, \n",
    "#                       startangle =90, \n",
    "#                       pctdistance = 0.6)\n",
    "# plt.axis('equal')\n",
    "# plt.legend(loc='upper left', bbox_to_anchor=(-0.5, 1))\n",
    "# plt.show()"
   ]
  },
  {
   "attachments": {},
   "cell_type": "markdown",
   "metadata": {},
   "source": [
    "### 3. The most popular Top 10 phones\n",
    "We assume that the more reviews from consumers, the phone is more popular for consumers.\n",
    "\n",
    "According to the customer reviews under each phone from different brands, we screen out 10 phones which are most popular for consumers. \n",
    "\n",
    "The best seller is 'Apple iPhone 8 Plus 64GB 红色特别版'. We could find that all Top 3 phones are from Apple, although the prices are higher than other brand's phones. Following are ‘Honour’ from Huawei."
   ]
  },
  {
   "cell_type": "code",
   "execution_count": 5,
   "metadata": {
    "scrolled": true
   },
   "outputs": [
    {
     "data": {
      "text/html": [
       "<div>\n",
       "<style scoped>\n",
       "    .dataframe tbody tr th:only-of-type {\n",
       "        vertical-align: middle;\n",
       "    }\n",
       "\n",
       "    .dataframe tbody tr th {\n",
       "        vertical-align: top;\n",
       "    }\n",
       "\n",
       "    .dataframe thead th {\n",
       "        text-align: right;\n",
       "    }\n",
       "</style>\n",
       "<table border=\"1\" class=\"dataframe\">\n",
       "  <thead>\n",
       "    <tr style=\"text-align: right;\">\n",
       "      <th></th>\n",
       "      <th>comment</th>\n",
       "      <th>coupon</th>\n",
       "      <th>name</th>\n",
       "      <th>price</th>\n",
       "      <th>shop</th>\n",
       "      <th>comments</th>\n",
       "    </tr>\n",
       "  </thead>\n",
       "  <tbody>\n",
       "    <tr>\n",
       "      <th>11</th>\n",
       "      <td>149万+</td>\n",
       "      <td>自营</td>\n",
       "      <td>Apple iPhone 8 Plus 64GB 红色特别版 移动联通电信4G手机</td>\n",
       "      <td>5999.0</td>\n",
       "      <td>京东Apple产品专营店</td>\n",
       "      <td>1490000</td>\n",
       "    </tr>\n",
       "    <tr>\n",
       "      <th>2</th>\n",
       "      <td>106万+</td>\n",
       "      <td>自营</td>\n",
       "      <td>Apple iPhone 8 64GB 红色特别版 移动联通电信4G手机</td>\n",
       "      <td>5099.0</td>\n",
       "      <td>京东Apple产品专营店</td>\n",
       "      <td>1060000</td>\n",
       "    </tr>\n",
       "    <tr>\n",
       "      <th>1</th>\n",
       "      <td>102万+</td>\n",
       "      <td>自营,券6000-300</td>\n",
       "      <td>Apple iPhone X (A1865) 64GB 深空灰色 移动联通电信4G手机</td>\n",
       "      <td>6999.0</td>\n",
       "      <td>京东Apple产品专营店</td>\n",
       "      <td>1020000</td>\n",
       "    </tr>\n",
       "    <tr>\n",
       "      <th>0</th>\n",
       "      <td>89万+</td>\n",
       "      <td>自营</td>\n",
       "      <td>荣耀9i 4GB+64GB 幻夜黑 移动联通电信4G全面屏手机 双卡双待</td>\n",
       "      <td>1199.0</td>\n",
       "      <td>荣耀京东自营旗舰店</td>\n",
       "      <td>890000</td>\n",
       "    </tr>\n",
       "    <tr>\n",
       "      <th>16</th>\n",
       "      <td>89万+</td>\n",
       "      <td>自营,券1580-200</td>\n",
       "      <td>荣耀 V10 高配版 6GB+64GB 幻夜黑 移动联通电信4G全面屏游戏手机 双卡双待</td>\n",
       "      <td>1999.0</td>\n",
       "      <td>荣耀京东自营旗舰店</td>\n",
       "      <td>890000</td>\n",
       "    </tr>\n",
       "    <tr>\n",
       "      <th>73</th>\n",
       "      <td>89万+</td>\n",
       "      <td>自营</td>\n",
       "      <td>荣耀 V10 尊享版 6GB+128GB 幻夜黑 移动联通电信4G全面屏游戏手机 双卡双待</td>\n",
       "      <td>2799.0</td>\n",
       "      <td>荣耀京东自营旗舰店</td>\n",
       "      <td>890000</td>\n",
       "    </tr>\n",
       "    <tr>\n",
       "      <th>51</th>\n",
       "      <td>85万+</td>\n",
       "      <td>自营</td>\n",
       "      <td>Apple iPhone 7 Plus (A1661) 128G 黑色 移动联通电信4G手机</td>\n",
       "      <td>5599.0</td>\n",
       "      <td>京东Apple产品专营店</td>\n",
       "      <td>850000</td>\n",
       "    </tr>\n",
       "    <tr>\n",
       "      <th>3</th>\n",
       "      <td>80万+</td>\n",
       "      <td>自营,券1980-100</td>\n",
       "      <td>荣耀10 GT游戏加速 AIS手持夜景 6GB+64GB 幻影蓝全网通 移动联通电信4G 双...</td>\n",
       "      <td>2199.0</td>\n",
       "      <td>荣耀京东自营旗舰店</td>\n",
       "      <td>800000</td>\n",
       "    </tr>\n",
       "    <tr>\n",
       "      <th>34</th>\n",
       "      <td>71万+</td>\n",
       "      <td>自营</td>\n",
       "      <td>小米8 全面屏游戏智能手机 6GB+64GB 黑色 全网通4G 双卡双待</td>\n",
       "      <td>2499.0</td>\n",
       "      <td>小米京东自营旗舰店</td>\n",
       "      <td>710000</td>\n",
       "    </tr>\n",
       "    <tr>\n",
       "      <th>18</th>\n",
       "      <td>71万+</td>\n",
       "      <td>自营</td>\n",
       "      <td>小米8 全面屏游戏智能手机 6GB+64GB 蓝色 全网通4G 双卡双待</td>\n",
       "      <td>2499.0</td>\n",
       "      <td>小米京东自营旗舰店</td>\n",
       "      <td>710000</td>\n",
       "    </tr>\n",
       "  </tbody>\n",
       "</table>\n",
       "</div>"
      ],
      "text/plain": [
       "   comment        coupon                                               name  \\\n",
       "11   149万+            自营          Apple iPhone 8 Plus 64GB 红色特别版 移动联通电信4G手机   \n",
       "2    106万+            自营               Apple iPhone 8 64GB 红色特别版 移动联通电信4G手机   \n",
       "1    102万+  自营,券6000-300        Apple iPhone X (A1865) 64GB 深空灰色 移动联通电信4G手机   \n",
       "0     89万+            自营               荣耀9i 4GB+64GB 幻夜黑 移动联通电信4G全面屏手机 双卡双待   \n",
       "16    89万+  自营,券1580-200       荣耀 V10 高配版 6GB+64GB 幻夜黑 移动联通电信4G全面屏游戏手机 双卡双待   \n",
       "73    89万+            自营      荣耀 V10 尊享版 6GB+128GB 幻夜黑 移动联通电信4G全面屏游戏手机 双卡双待   \n",
       "51    85万+            自营     Apple iPhone 7 Plus (A1661) 128G 黑色 移动联通电信4G手机   \n",
       "3     80万+  自营,券1980-100  荣耀10 GT游戏加速 AIS手持夜景 6GB+64GB 幻影蓝全网通 移动联通电信4G 双...   \n",
       "34    71万+            自营               小米8 全面屏游戏智能手机 6GB+64GB 黑色 全网通4G 双卡双待   \n",
       "18    71万+            自营               小米8 全面屏游戏智能手机 6GB+64GB 蓝色 全网通4G 双卡双待   \n",
       "\n",
       "     price          shop  comments  \n",
       "11  5999.0  京东Apple产品专营店   1490000  \n",
       "2   5099.0  京东Apple产品专营店   1060000  \n",
       "1   6999.0  京东Apple产品专营店   1020000  \n",
       "0   1199.0     荣耀京东自营旗舰店    890000  \n",
       "16  1999.0     荣耀京东自营旗舰店    890000  \n",
       "73  2799.0     荣耀京东自营旗舰店    890000  \n",
       "51  5599.0  京东Apple产品专营店    850000  \n",
       "3   2199.0     荣耀京东自营旗舰店    800000  \n",
       "34  2499.0     小米京东自营旗舰店    710000  \n",
       "18  2499.0     小米京东自营旗舰店    710000  "
      ]
     },
     "execution_count": 5,
     "metadata": {},
     "output_type": "execute_result"
    }
   ],
   "source": [
    "# 将原评论数据转换为纯数字型，并按评论数由高至低排序（体现购买的热度）\n",
    "comments = []\n",
    "for i in df['comment']:\n",
    "    if '万+' in i:  \n",
    "        a = i.replace('万+','')\n",
    "        a = float(a) *10000\n",
    "    else:\n",
    "        a = i.replace('+','')\n",
    "    comments.append(int(a))\n",
    "df['comments'] = comments\n",
    "df1 = df.sort_values(by='comments', ascending=False)[:10]\n",
    "df1"
   ]
  },
  {
   "cell_type": "markdown",
   "metadata": {},
   "source": [
    "#### (1) Cost performance\n",
    "Cost performance means comments divided by price.\n",
    "\n",
    "As we can see from the green line, althoght Apple sells best, the general cost performace of Apple is lower than Huawei and Xiaomi. '荣耀9i 4GB+64GB 幻夜黑' Performs best in cost performance."
   ]
  },
  {
   "cell_type": "code",
   "execution_count": 6,
   "metadata": {
    "scrolled": false
   },
   "outputs": [
    {
     "data": {
      "text/html": [
       "<iframe id=\"igraph\" scrolling=\"no\" style=\"border:none;\" seamless=\"seamless\" src=\"https://plot.ly/~iiiJenny/14.embed\" height=\"525px\" width=\"100%\"></iframe>"
      ],
      "text/plain": [
       "<plotly.tools.PlotlyDisplay object>"
      ]
     },
     "execution_count": 6,
     "metadata": {},
     "output_type": "execute_result"
    }
   ],
   "source": [
    "random_x = df1['name']\n",
    "random_y0 = df1['comments']/200\n",
    "random_y1 = df1['price']\n",
    "random_y2 = df1['comments']/df1['price']*10\n",
    "\n",
    "# Create a trace\n",
    "trace0 = go.Scatter(\n",
    "    x = random_x,\n",
    "    y = random_y0,\n",
    "    mode = 'lines+markers',\n",
    "    name = 'comments'\n",
    ")\n",
    "trace1 = go.Scatter(\n",
    "    x = random_x,\n",
    "    y = random_y1,\n",
    "    mode = 'lines+markers',\n",
    "    name = 'price'\n",
    ")\n",
    "\n",
    "trace2 = go.Scatter(\n",
    "    x = random_x,\n",
    "    y = random_y2,\n",
    "    mode = 'lines+markers',\n",
    "    name = 'Cost performance'\n",
    ")\n",
    "\n",
    "data = [trace0, trace1,trace2]\n",
    "py.iplot(data, filename='line-mode')"
   ]
  },
  {
   "cell_type": "markdown",
   "metadata": {},
   "source": [
    "#### (2) The distribution of brands in the top ten mobile phones\n",
    "There are only three brands in top10 mobile phones. Apple and Huawei have equal shares in Top10 online platform market, accout for 40% respectively. And Xiaomi has relatively less shares, is about 20%."
   ]
  },
  {
   "cell_type": "code",
   "execution_count": 7,
   "metadata": {},
   "outputs": [
    {
     "data": {
      "image/png": "[encoded data removed]",
      "text/plain": [
       "<Figure size 288x288 with 1 Axes>"
      ]
     },
     "metadata": {},
     "output_type": "display_data"
    }
   ],
   "source": [
    "# 热度前十手机的品牌的占比分布\n",
    "Apple = 0\n",
    "Huawei = 0\n",
    "Xiaomi = 0\n",
    "for i in df1['name']:\n",
    "    if 'Apple' in str(i):\n",
    "        Apple += 1\n",
    "    elif '荣耀' in str(i):\n",
    "        Huawei += 1\n",
    "    else:\n",
    "        Xiaomi += 1\n",
    "        \n",
    "# 饼状图3\n",
    "plt.figure(figsize=(4,4))\n",
    "labels = [u'Apple', u'Huawei', u'Xiaomi']\n",
    "sizes = [Apple,Huawei,Xiaomi]\n",
    "colors = ['gray','red','blue']\n",
    "explode = (0.05,0.05,0.05)\n",
    "patches,text1,text2 = plt.pie(sizes,\n",
    "                      explode=explode,\n",
    "                      labels=labels,\n",
    "                      colors=colors,\n",
    "                      autopct = '%3.2f%%',\n",
    "                      shadow = False,\n",
    "                      startangle =90,\n",
    "                      pctdistance = 0.6)\n",
    "plt.axis('equal')\n",
    "plt.legend(loc='upper left', bbox_to_anchor=(-0.5, 1))\n",
    "plt.show()"
   ]
  }
 ],
 "metadata": {
  "kernelspec": {
   "display_name": "Python 3",
   "language": "python",
   "name": "python3"
  },
  "language_info": {
   "codemirror_mode": {
    "name": "ipython",
    "version": 3
   },
   "file_extension": ".py",
   "mimetype": "text/x-python",
   "name": "python",
   "nbconvert_exporter": "python",
   "pygments_lexer": "ipython3",
   "version": "3.6.5"
  }
 },
 "nbformat": 4,
 "nbformat_minor": 2
}
