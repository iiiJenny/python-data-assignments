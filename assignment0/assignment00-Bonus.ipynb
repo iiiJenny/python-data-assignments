{
 "cells": [
  {
   "cell_type": "code",
   "execution_count": 3,
   "metadata": {},
   "outputs": [],
   "source": [
    "import re\n",
    "import csv\n",
    "#import pandas as pd\n",
    "\n",
    "def count_words_freq(articles):\n",
    "    \n",
    "    all_article_words = []\n",
    "    for article in articles:\n",
    "        with open(article, 'r') as f:\n",
    "            content = f.read().lower()  #str\n",
    "        words = re.findall(\"\\w+\",content)  # 提取单词，并变为小写 -> str.lower(content)\n",
    "        all_article_words.extend(words)\n",
    "    all_article_words\n",
    "\n",
    "    \n",
    "    #遍历，去除含有数字和符号的字符串，存储到count_words（dict）\n",
    "    count_words = {}\n",
    "    for i in words: \n",
    "        a = re.search(\"\\d+\",i)   #数字\n",
    "        b = re.search(\"\\W+\",i)  #非单词字符\n",
    "        if not a and not b:\n",
    "            stop_words = [\"the\", \"and\", \"of\", \"a\", \"in\", \"to\", \"with\", \"cannot\", \"will\", \"about\", \"on\", \"s\", \"is\", \"are\", \"at\", \"has\", \"as\", \"from\", \"that\", \"up\", \"by\", \"not\", \"this\", \"us\", \"it\", \"for\", \"u\"]\n",
    "            if i not in stop_words:\n",
    "                count_words[i] = words.count(i)  \n",
    "    count_words    \n",
    "\n",
    "    #排序，输出前频次前15的单词   (consider sorted() & list slicing)\n",
    "    sort_words = sorted(count_words.items(), key = lambda count:count[1], reverse=True)\n",
    "    results = sort_words[:15] \n",
    "    return results   \n",
    "\n",
    "articles = ['trade-wars-news1.txt',\n",
    "'trade-wars-news2.txt',\n",
    "'trade-wars-news3.txt',\n",
    "'trade-wars-news4.txt',\n",
    "'trade-wars-news5.txt']\n",
    "\n",
    "filename = 'assignment00.csv'\n",
    "with open(filename, 'w', newline='') as f:\n",
    "    my_writer = csv.writer(f)\n",
    "    header = ['keyword', 'frequency']\n",
    "    my_writer.writerow(header)\n",
    "    my_writer.writerows(count_words_freq(articles)) #调用函数  "
   ]
  },
  {
   "cell_type": "code",
   "execution_count": null,
   "metadata": {},
   "outputs": [],
   "source": []
  }
 ],
 "metadata": {
  "kernelspec": {
   "display_name": "Python 3",
   "language": "python",
   "name": "python3"
  },
  "language_info": {
   "codemirror_mode": {
    "name": "ipython",
    "version": 3
   },
   "file_extension": ".py",
   "mimetype": "text/x-python",
   "name": "python",
   "nbconvert_exporter": "python",
   "pygments_lexer": "ipython3",
   "version": "3.6.5"
  }
 },
 "nbformat": 4,
 "nbformat_minor": 2
}
