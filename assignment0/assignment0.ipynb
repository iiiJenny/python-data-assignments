{
 "cells": [
  {
   "cell_type": "code",
   "execution_count": 1,
   "metadata": {},
   "outputs": [],
   "source": [
    "import re\n",
    "import csv\n",
    "#import pandas as pd\n",
    "\n",
    "def count_words_freq(articles): \n",
    "    all_article_words = []\n",
    "    for article in articles:\n",
    "        with open(article, 'r') as f:\n",
    "            content = f.read().lower()  \n",
    "        words = re.findall(\"\\w+\",content) \n",
    "        all_article_words.extend(words)\n",
    "    all_article_words\n",
    "\n",
    "    count_words = {}\n",
    "    for i in words: \n",
    "        a = re.search(\"\\d+\",i)   \n",
    "        b = re.search(\"\\W+\",i) \n",
    "        if not a and not b:\n",
    "            count_words[i] = words.count(i)  \n",
    "    count_words\n",
    "\n",
    "    sort_words = sorted(count_words.items(), key = lambda count:count[1], reverse=True)\n",
    "    results = sort_words[:15] \n",
    "    # sort_words = pd.Series(count_words)\n",
    "    # sort_words.sort_values(ascending=False)\n",
    "    return results   \n",
    "\n",
    "articles = ['trade-wars-news1.txt',\n",
    "'trade-wars-news2.txt',\n",
    "'trade-wars-news3.txt',\n",
    "'trade-wars-news4.txt',\n",
    "'trade-wars-news5.txt']\n",
    "\n",
    "filename = 'assignment00.csv'\n",
    "with open(filename, 'w', newline='') as f:\n",
    "    my_writer = csv.writer(f)\n",
    "    header = ['keyword', 'frequency']\n",
    "    my_writer.writerow(header)\n",
    "    my_writer.writerows(count_words_freq(articles))"
   ]
  },
  {
   "cell_type": "code",
   "execution_count": null,
   "metadata": {},
   "outputs": [],
   "source": []
  }
 ],
 "metadata": {
  "kernelspec": {
   "display_name": "Python 3",
   "language": "python",
   "name": "python3"
  },
  "language_info": {
   "codemirror_mode": {
    "name": "ipython",
    "version": 3
   },
   "file_extension": ".py",
   "mimetype": "text/x-python",
   "name": "python",
   "nbconvert_exporter": "python",
   "pygments_lexer": "ipython3",
   "version": "3.6.5"
  }
 },
 "nbformat": 4,
 "nbformat_minor": 2
}
